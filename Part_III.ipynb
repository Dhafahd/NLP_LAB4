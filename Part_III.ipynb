{
  "cells": [
    {
      "cell_type": "code",
      "execution_count": 1,
      "metadata": {
        "id": "520SSzrv71Ez"
      },
      "outputs": [],
      "source": [
        "import torch\n",
        "from transformers import BertModel, BertTokenizer\n",
        "import json\n",
        "import pandas as pd\n",
        "import gzip\n",
        "from torch.utils.data import DataLoader, TensorDataset, random_split\n",
        "from transformers import BertTokenizer, BertForSequenceClassification"
      ]
    },
    {
      "cell_type": "code",
      "execution_count": 2,
      "metadata": {
        "colab": {
          "base_uri": "https://localhost:8080/"
        },
        "id": "HPNtT2c-71Pa",
        "outputId": "7225e530-e53e-4c2d-f916-077fe1da7a8d"
      },
      "outputs": [
        {
          "data": {
            "text/plain": [
              "device(type='cuda')"
            ]
          },
          "execution_count": 2,
          "metadata": {},
          "output_type": "execute_result"
        }
      ],
      "source": [
        "device = torch.device(\"cuda\" if torch.cuda.is_available() else \"cpu\")\n",
        "device"
      ]
    },
    {
      "cell_type": "code",
      "execution_count": 3,
      "metadata": {
        "id": "E5HMn5oq71ST"
      },
      "outputs": [],
      "source": [
        "# Step 1: Load Data from JSON File\n",
        "def parse(path):\n",
        "  g = gzip.open(path, 'rb')\n",
        "  for l in g:\n",
        "    yield json.loads(l)\n",
        "\n",
        "def getDF(path):\n",
        "  i = 0\n",
        "  df = {}\n",
        "  for d in parse(path):\n",
        "    df[i] = d\n",
        "    i += 1\n",
        "  return pd.DataFrame.from_dict(df, orient='index')\n",
        "\n",
        "\n",
        "df = getDF('AMAZON_FASHION_5.json.gz')\n",
        "df = df[df[\"reviewText\"].apply(lambda x: isinstance(x, str))]"
      ]
    },
    {
      "cell_type": "code",
      "execution_count": 6,
      "metadata": {
        "id": "dh7jjwka71U-"
      },
      "outputs": [],
      "source": [
        "df=df.drop('vote',axis=1)\n",
        "df=df.drop('image',axis=1)"
      ]
    },
    {
      "cell_type": "code",
      "execution_count": 11,
      "metadata": {
        "id": "e32gu46371ap"
      },
      "outputs": [],
      "source": [
        "X= df[\"reviewText\"].tolist()\n",
        "labels = df[\"overall\"].tolist()\n"
      ]
    },
    {
      "cell_type": "code",
      "execution_count": 12,
      "metadata": {
        "id": "S6sAFJfn71da"
      },
      "outputs": [],
      "source": [
        "model_name = \"bert-base-uncased\"\n",
        "tokenizer = BertTokenizer.from_pretrained(model_name)\n",
        "encoded_inputs = tokenizer(X, padding=True, truncation=True, return_tensors='pt')"
      ]
    },
    {
      "cell_type": "code",
      "execution_count": 13,
      "metadata": {
        "id": "AOAvy-tF71f4"
      },
      "outputs": [],
      "source": [
        "labels = torch.tensor(labels, dtype=torch.float32).unsqueeze(1)\n",
        "dataset = TensorDataset(encoded_inputs['input_ids'], encoded_inputs['attention_mask'], labels)\n",
        "\n",
        "train_size = int(0.8 * len(dataset))\n",
        "eval_size = len(dataset) - train_size\n",
        "train_dataset, eval_dataset = random_split(dataset, [train_size, eval_size])\n"
      ]
    },
    {
      "cell_type": "code",
      "execution_count": 14,
      "metadata": {
        "id": "2XBqg9G371i4"
      },
      "outputs": [],
      "source": [
        "batch_size = 8\n",
        "train_loader = DataLoader(train_dataset, batch_size=batch_size, shuffle=True)\n",
        "eval_loader = DataLoader(eval_dataset, batch_size=batch_size)"
      ]
    },
    {
      "cell_type": "code",
      "execution_count": 15,
      "metadata": {
        "colab": {
          "base_uri": "https://localhost:8080/",
          "height": 104,
          "referenced_widgets": [
            "a220dffad20e4232938cfb64febd4d7a",
            "e242729b00fa4c1f8f0dc9e8ecedecb9",
            "2970677cd39341c384cd627341481977",
            "df966324a22b4507be5c69ac0f9ea41c",
            "3e99a59e1c6f453b92d9a5a0e5c76b33",
            "69e10c5d29fc4eebac3b979f9bc7433a",
            "797986d61ad24e628ee2a54917664e79",
            "1fc5e4676d1c4429a6955a11d9f512c9",
            "8b96a6e8ba3b414fae571cb2b71ebc75",
            "6c322d99b15f4ef68855d3693768cfb6",
            "180075ea75e54cfd9dc587d50b3c3b82"
          ]
        },
        "id": "TmR6RgEG71le",
        "outputId": "b18b5d39-8603-4155-d3c8-7d4d50bc9915"
      },
      "outputs": [
        {
          "data": {
            "application/vnd.jupyter.widget-view+json": {
              "model_id": "a220dffad20e4232938cfb64febd4d7a",
              "version_major": 2,
              "version_minor": 0
            },
            "text/plain": [
              "model.safetensors:   0%|          | 0.00/440M [00:00<?, ?B/s]"
            ]
          },
          "metadata": {},
          "output_type": "display_data"
        },
        {
          "name": "stderr",
          "output_type": "stream",
          "text": [
            "Some weights of BertForSequenceClassification were not initialized from the model checkpoint at bert-base-uncased and are newly initialized: ['classifier.bias', 'classifier.weight']\n",
            "You should probably TRAIN this model on a down-stream task to be able to use it for predictions and inference.\n"
          ]
        }
      ],
      "source": [
        "device = torch.device(\"cuda\" if torch.cuda.is_available() else \"cpu\")\n",
        "bert_model = BertForSequenceClassification.from_pretrained(model_name, num_labels=1).to(device)\n",
        "optimizer = torch.optim.AdamW(bert_model.parameters(), lr=2e-5)"
      ]
    },
    {
      "cell_type": "code",
      "execution_count": 17,
      "metadata": {
        "colab": {
          "base_uri": "https://localhost:8080/"
        },
        "id": "ZaSP5w7x71oM",
        "outputId": "6484f180-f7a9-461c-ad5d-e3fd806e8f53"
      },
      "outputs": [
        {
          "name": "stdout",
          "output_type": "stream",
          "text": [
            "Epoch [1/10], Training Loss: 0.4821, Evaluation Loss: 0.1159\n",
            "Epoch [2/10], Training Loss: 0.0727, Evaluation Loss: 0.0747\n",
            "Epoch [3/10], Training Loss: 0.0542, Evaluation Loss: 0.0643\n",
            "Epoch [4/10], Training Loss: 0.0431, Evaluation Loss: 0.0421\n",
            "Epoch [5/10], Training Loss: 0.0395, Evaluation Loss: 0.0393\n",
            "Epoch [6/10], Training Loss: 0.0409, Evaluation Loss: 0.0461\n",
            "Epoch [7/10], Training Loss: 0.0335, Evaluation Loss: 0.0388\n",
            "Epoch [8/10], Training Loss: 0.0313, Evaluation Loss: 0.0400\n",
            "Epoch [9/10], Training Loss: 0.0299, Evaluation Loss: 0.0634\n",
            "Epoch [10/10], Training Loss: 0.0282, Evaluation Loss: 0.0270\n"
          ]
        }
      ],
      "source": [
        "num_epochs = 10\n",
        "for epoch in range(num_epochs):\n",
        "    # Training\n",
        "    bert_model.train()\n",
        "    total_train_loss = 0.0\n",
        "    num_train_batches = 0\n",
        "    for batch in train_loader:\n",
        "        input_ids, attention_mask, label = [t.to(device) for t in batch]\n",
        "        optimizer.zero_grad()\n",
        "        outputs = bert_model(input_ids=input_ids, attention_mask=attention_mask, labels=label)\n",
        "        loss = outputs.loss\n",
        "        loss.backward()\n",
        "        optimizer.step()\n",
        "        total_train_loss += loss.item()\n",
        "        num_train_batches += 1\n",
        "    avg_train_loss = total_train_loss / num_train_batches\n",
        "\n",
        "    # Evaluation\n",
        "    bert_model.eval()\n",
        "    total_eval_loss = 0.0\n",
        "    num_eval_batches = 0\n",
        "    with torch.no_grad():\n",
        "        for batch in eval_loader:\n",
        "            input_ids, attention_mask, label = [t.to(device) for t in batch]\n",
        "            outputs = bert_model(input_ids=input_ids, attention_mask=attention_mask, labels=label)\n",
        "            total_eval_loss += outputs.loss.item()\n",
        "            num_eval_batches += 1\n",
        "    avg_eval_loss = total_eval_loss / num_eval_batches\n",
        "\n",
        "    print(f\"Epoch [{epoch+1}/{num_epochs}], Training Loss: {avg_train_loss:.4f}, Evaluation Loss: {avg_eval_loss:.4f}\")"
      ]
    },
    {
      "cell_type": "code",
      "execution_count": 18,
      "metadata": {
        "colab": {
          "base_uri": "https://localhost:8080/"
        },
        "id": "eruskxzi71rH",
        "outputId": "12711914-04c9-413b-d8ce-6ed9afdd6e78"
      },
      "outputs": [
        {
          "name": "stdout",
          "output_type": "stream",
          "text": [
            "Predicted rating: 4.77\n"
          ]
        }
      ],
      "source": [
        "review_text = \"t was normal\"\n",
        "\n",
        "tokenized_review = tokenizer(review_text, padding=True, truncation=True, return_tensors='pt')\n",
        "\n",
        "input_ids = tokenized_review['input_ids'].to(device)\n",
        "attention_mask = tokenized_review['attention_mask'].to(device)\n",
        "\n",
        "with torch.no_grad():\n",
        "    bert_model.eval()\n",
        "    outputs = bert_model(input_ids=input_ids, attention_mask=attention_mask)\n",
        "    predicted_rating = outputs.logits.item()\n",
        "\n",
        "print(f\"Predicted rating: {predicted_rating:.2f}\")"
      ]
    },
    {
      "cell_type": "code",
      "execution_count": null,
      "metadata": {
        "id": "zIUVN-TY71tu"
      },
      "outputs": [],
      "source": []
    }
  ],
  "metadata": {
    "accelerator": "GPU",
    "colab": {
      "gpuType": "T4",
      "provenance": []
    },
    "kernelspec": {
      "display_name": "Python 3",
      "name": "python3"
    },
    "language_info": {
      "name": "python"
    },
    "widgets": {
      "application/vnd.jupyter.widget-state+json": {
        "180075ea75e54cfd9dc587d50b3c3b82": {
          "model_module": "@jupyter-widgets/controls",
          "model_module_version": "1.5.0",
          "model_name": "DescriptionStyleModel",
          "state": {
            "_model_module": "@jupyter-widgets/controls",
            "_model_module_version": "1.5.0",
            "_model_name": "DescriptionStyleModel",
            "_view_count": null,
            "_view_module": "@jupyter-widgets/base",
            "_view_module_version": "1.2.0",
            "_view_name": "StyleView",
            "description_width": ""
          }
        },
        "1fc5e4676d1c4429a6955a11d9f512c9": {
          "model_module": "@jupyter-widgets/base",
          "model_module_version": "1.2.0",
          "model_name": "LayoutModel",
          "state": {
            "_model_module": "@jupyter-widgets/base",
            "_model_module_version": "1.2.0",
            "_model_name": "LayoutModel",
            "_view_count": null,
            "_view_module": "@jupyter-widgets/base",
            "_view_module_version": "1.2.0",
            "_view_name": "LayoutView",
            "align_content": null,
            "align_items": null,
            "align_self": null,
            "border": null,
            "bottom": null,
            "display": null,
            "flex": null,
            "flex_flow": null,
            "grid_area": null,
            "grid_auto_columns": null,
            "grid_auto_flow": null,
            "grid_auto_rows": null,
            "grid_column": null,
            "grid_gap": null,
            "grid_row": null,
            "grid_template_areas": null,
            "grid_template_columns": null,
            "grid_template_rows": null,
            "height": null,
            "justify_content": null,
            "justify_items": null,
            "left": null,
            "margin": null,
            "max_height": null,
            "max_width": null,
            "min_height": null,
            "min_width": null,
            "object_fit": null,
            "object_position": null,
            "order": null,
            "overflow": null,
            "overflow_x": null,
            "overflow_y": null,
            "padding": null,
            "right": null,
            "top": null,
            "visibility": null,
            "width": null
          }
        },
        "2970677cd39341c384cd627341481977": {
          "model_module": "@jupyter-widgets/controls",
          "model_module_version": "1.5.0",
          "model_name": "FloatProgressModel",
          "state": {
            "_dom_classes": [],
            "_model_module": "@jupyter-widgets/controls",
            "_model_module_version": "1.5.0",
            "_model_name": "FloatProgressModel",
            "_view_count": null,
            "_view_module": "@jupyter-widgets/controls",
            "_view_module_version": "1.5.0",
            "_view_name": "ProgressView",
            "bar_style": "success",
            "description": "",
            "description_tooltip": null,
            "layout": "IPY_MODEL_1fc5e4676d1c4429a6955a11d9f512c9",
            "max": 440449768,
            "min": 0,
            "orientation": "horizontal",
            "style": "IPY_MODEL_8b96a6e8ba3b414fae571cb2b71ebc75",
            "value": 440449768
          }
        },
        "3e99a59e1c6f453b92d9a5a0e5c76b33": {
          "model_module": "@jupyter-widgets/base",
          "model_module_version": "1.2.0",
          "model_name": "LayoutModel",
          "state": {
            "_model_module": "@jupyter-widgets/base",
            "_model_module_version": "1.2.0",
            "_model_name": "LayoutModel",
            "_view_count": null,
            "_view_module": "@jupyter-widgets/base",
            "_view_module_version": "1.2.0",
            "_view_name": "LayoutView",
            "align_content": null,
            "align_items": null,
            "align_self": null,
            "border": null,
            "bottom": null,
            "display": null,
            "flex": null,
            "flex_flow": null,
            "grid_area": null,
            "grid_auto_columns": null,
            "grid_auto_flow": null,
            "grid_auto_rows": null,
            "grid_column": null,
            "grid_gap": null,
            "grid_row": null,
            "grid_template_areas": null,
            "grid_template_columns": null,
            "grid_template_rows": null,
            "height": null,
            "justify_content": null,
            "justify_items": null,
            "left": null,
            "margin": null,
            "max_height": null,
            "max_width": null,
            "min_height": null,
            "min_width": null,
            "object_fit": null,
            "object_position": null,
            "order": null,
            "overflow": null,
            "overflow_x": null,
            "overflow_y": null,
            "padding": null,
            "right": null,
            "top": null,
            "visibility": null,
            "width": null
          }
        },
        "69e10c5d29fc4eebac3b979f9bc7433a": {
          "model_module": "@jupyter-widgets/base",
          "model_module_version": "1.2.0",
          "model_name": "LayoutModel",
          "state": {
            "_model_module": "@jupyter-widgets/base",
            "_model_module_version": "1.2.0",
            "_model_name": "LayoutModel",
            "_view_count": null,
            "_view_module": "@jupyter-widgets/base",
            "_view_module_version": "1.2.0",
            "_view_name": "LayoutView",
            "align_content": null,
            "align_items": null,
            "align_self": null,
            "border": null,
            "bottom": null,
            "display": null,
            "flex": null,
            "flex_flow": null,
            "grid_area": null,
            "grid_auto_columns": null,
            "grid_auto_flow": null,
            "grid_auto_rows": null,
            "grid_column": null,
            "grid_gap": null,
            "grid_row": null,
            "grid_template_areas": null,
            "grid_template_columns": null,
            "grid_template_rows": null,
            "height": null,
            "justify_content": null,
            "justify_items": null,
            "left": null,
            "margin": null,
            "max_height": null,
            "max_width": null,
            "min_height": null,
            "min_width": null,
            "object_fit": null,
            "object_position": null,
            "order": null,
            "overflow": null,
            "overflow_x": null,
            "overflow_y": null,
            "padding": null,
            "right": null,
            "top": null,
            "visibility": null,
            "width": null
          }
        },
        "6c322d99b15f4ef68855d3693768cfb6": {
          "model_module": "@jupyter-widgets/base",
          "model_module_version": "1.2.0",
          "model_name": "LayoutModel",
          "state": {
            "_model_module": "@jupyter-widgets/base",
            "_model_module_version": "1.2.0",
            "_model_name": "LayoutModel",
            "_view_count": null,
            "_view_module": "@jupyter-widgets/base",
            "_view_module_version": "1.2.0",
            "_view_name": "LayoutView",
            "align_content": null,
            "align_items": null,
            "align_self": null,
            "border": null,
            "bottom": null,
            "display": null,
            "flex": null,
            "flex_flow": null,
            "grid_area": null,
            "grid_auto_columns": null,
            "grid_auto_flow": null,
            "grid_auto_rows": null,
            "grid_column": null,
            "grid_gap": null,
            "grid_row": null,
            "grid_template_areas": null,
            "grid_template_columns": null,
            "grid_template_rows": null,
            "height": null,
            "justify_content": null,
            "justify_items": null,
            "left": null,
            "margin": null,
            "max_height": null,
            "max_width": null,
            "min_height": null,
            "min_width": null,
            "object_fit": null,
            "object_position": null,
            "order": null,
            "overflow": null,
            "overflow_x": null,
            "overflow_y": null,
            "padding": null,
            "right": null,
            "top": null,
            "visibility": null,
            "width": null
          }
        },
        "797986d61ad24e628ee2a54917664e79": {
          "model_module": "@jupyter-widgets/controls",
          "model_module_version": "1.5.0",
          "model_name": "DescriptionStyleModel",
          "state": {
            "_model_module": "@jupyter-widgets/controls",
            "_model_module_version": "1.5.0",
            "_model_name": "DescriptionStyleModel",
            "_view_count": null,
            "_view_module": "@jupyter-widgets/base",
            "_view_module_version": "1.2.0",
            "_view_name": "StyleView",
            "description_width": ""
          }
        },
        "8b96a6e8ba3b414fae571cb2b71ebc75": {
          "model_module": "@jupyter-widgets/controls",
          "model_module_version": "1.5.0",
          "model_name": "ProgressStyleModel",
          "state": {
            "_model_module": "@jupyter-widgets/controls",
            "_model_module_version": "1.5.0",
            "_model_name": "ProgressStyleModel",
            "_view_count": null,
            "_view_module": "@jupyter-widgets/base",
            "_view_module_version": "1.2.0",
            "_view_name": "StyleView",
            "bar_color": null,
            "description_width": ""
          }
        },
        "a220dffad20e4232938cfb64febd4d7a": {
          "model_module": "@jupyter-widgets/controls",
          "model_module_version": "1.5.0",
          "model_name": "HBoxModel",
          "state": {
            "_dom_classes": [],
            "_model_module": "@jupyter-widgets/controls",
            "_model_module_version": "1.5.0",
            "_model_name": "HBoxModel",
            "_view_count": null,
            "_view_module": "@jupyter-widgets/controls",
            "_view_module_version": "1.5.0",
            "_view_name": "HBoxView",
            "box_style": "",
            "children": [
              "IPY_MODEL_e242729b00fa4c1f8f0dc9e8ecedecb9",
              "IPY_MODEL_2970677cd39341c384cd627341481977",
              "IPY_MODEL_df966324a22b4507be5c69ac0f9ea41c"
            ],
            "layout": "IPY_MODEL_3e99a59e1c6f453b92d9a5a0e5c76b33"
          }
        },
        "df966324a22b4507be5c69ac0f9ea41c": {
          "model_module": "@jupyter-widgets/controls",
          "model_module_version": "1.5.0",
          "model_name": "HTMLModel",
          "state": {
            "_dom_classes": [],
            "_model_module": "@jupyter-widgets/controls",
            "_model_module_version": "1.5.0",
            "_model_name": "HTMLModel",
            "_view_count": null,
            "_view_module": "@jupyter-widgets/controls",
            "_view_module_version": "1.5.0",
            "_view_name": "HTMLView",
            "description": "",
            "description_tooltip": null,
            "layout": "IPY_MODEL_6c322d99b15f4ef68855d3693768cfb6",
            "placeholder": "​",
            "style": "IPY_MODEL_180075ea75e54cfd9dc587d50b3c3b82",
            "value": " 440M/440M [00:05&lt;00:00, 82.4MB/s]"
          }
        },
        "e242729b00fa4c1f8f0dc9e8ecedecb9": {
          "model_module": "@jupyter-widgets/controls",
          "model_module_version": "1.5.0",
          "model_name": "HTMLModel",
          "state": {
            "_dom_classes": [],
            "_model_module": "@jupyter-widgets/controls",
            "_model_module_version": "1.5.0",
            "_model_name": "HTMLModel",
            "_view_count": null,
            "_view_module": "@jupyter-widgets/controls",
            "_view_module_version": "1.5.0",
            "_view_name": "HTMLView",
            "description": "",
            "description_tooltip": null,
            "layout": "IPY_MODEL_69e10c5d29fc4eebac3b979f9bc7433a",
            "placeholder": "​",
            "style": "IPY_MODEL_797986d61ad24e628ee2a54917664e79",
            "value": "model.safetensors: 100%"
          }
        }
      }
    }
  },
  "nbformat": 4,
  "nbformat_minor": 0
}
