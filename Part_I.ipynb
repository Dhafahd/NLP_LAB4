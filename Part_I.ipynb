{
 "cells": [
  {
   "cell_type": "code",
   "execution_count": null,
   "id": "53517bee-c741-4882-9f35-d78d6eca49bb",
   "metadata": {},
   "outputs": [],
   "source": [
    "from selenium import webdriver\n",
    "from selenium.webdriver.common.by import By\n",
    "from selenium.webdriver.chrome.service import Service\n",
    "from selenium.webdriver.chrome.options import Options\n",
    "from selenium.webdriver.support.ui import WebDriverWait\n",
    "from selenium.webdriver.support import expected_conditions as EC\n",
    "import time\n",
    "\n",
    "\n",
    "\n",
    "# Configure options for Chrome\n",
    "options = Options()\n",
    "options.add_argument('--headless')  # Run in headless mode for non-GUI environments\n",
    "options.add_argument('--disable-gpu')\n",
    "options.add_argument('--no-sandbox')\n",
    "\n",
    "# Set up the Chrome WebDriver\n",
    "driver = webdriver.Chrome()\n",
    "\n",
    "\n",
    "# Open the website\n",
    "driver.get('https://www.aljazeera.net/where/arab/palestine/')\n",
    "\n",
    "links = set()\n",
    "for i in range(30):\n",
    "    # Wait until the links are present\n",
    "    WebDriverWait(driver, 10).until(\n",
    "        EC.presence_of_all_elements_located((By.CLASS_NAME, 'u-clickable-card__link'))\n",
    "    )\n",
    "\n",
    "    # Find all link elements\n",
    "    link_elements = driver.find_elements(By.CLASS_NAME, 'u-clickable-card__link')\n",
    "    for element in link_elements:\n",
    "        links.add(element.get_attribute('href'))\n",
    "\n",
    "    # Try to find and click the \"Show More\" button\n",
    "    show_more_button = WebDriverWait(driver, 10).until(\n",
    "        EC.element_to_be_clickable((By.XPATH, '/html/body/div[1]/div/div[3]/div/div[3]/div/div[1]/section/button'))\n",
    "    )\n",
    "    driver.execute_script('arguments[0].scrollIntoView();', show_more_button)\n",
    "    show_more_button.click()\n",
    "    time.sleep(3)  # Wait for new content to load\n",
    "\n",
    "# Output all links\n",
    "for link in links:\n",
    "    print(link)\n",
    "\n",
    "driver.quit()\n"
   ]
  },
  {
   "cell_type": "code",
   "execution_count": 12,
   "id": "60b4d195-a748-479c-ad88-43a5bccd874d",
   "metadata": {},
   "outputs": [
    {
     "data": {
      "text/plain": [
       "304"
      ]
     },
     "execution_count": 12,
     "metadata": {},
     "output_type": "execute_result"
    }
   ],
   "source": [
    "len(links)"
   ]
  },
  {
   "cell_type": "code",
   "execution_count": null,
   "id": "d532d4c6-9a74-4477-8162-e8b84aa579b2",
   "metadata": {},
   "outputs": [],
   "source": [
    "import requests\n",
    "from bs4 import BeautifulSoup\n",
    "para=[]\n",
    "for url in links:\n",
    "    page = requests.get(url)\n",
    "    soup = BeautifulSoup(page.text, 'html.parser')\n",
    "    \n",
    "    para_div = soup.find('div', {'class': 'wysiwyg wysiwyg--all-content css-1vkfgk0'})\n",
    "    if para_div:\n",
    "        print(\"URL:\", url)\n",
    "         \n",
    "        \n",
    "        # Initialize a variable to store all paragraphs\n",
    "        all_paragraphs = \"\"\n",
    "\n",
    "        # Extract paragraphs\n",
    "        for item in para_div.contents:\n",
    "            if item.name == 'p':\n",
    "                all_paragraphs += item.text.strip() + \"  \"\n",
    "\n",
    "        print(\"Paragraphs:\", all_paragraphs)\n",
    "        para.append(all_paragraphs)\n",
    "        print(\"\\n\")  # Add a new line for separation between articles\n",
    "        # Insert data into MongoDB\n",
    "        article_data = {\n",
    "            \"url\": url,\n",
    "            \"paragraphs\": all_paragraphs\n",
    "        }\n"
   ]
  },
  {
   "cell_type": "code",
   "execution_count": 21,
   "id": "113e412a-3aaf-45a0-906e-6629e31af72a",
   "metadata": {},
   "outputs": [
    {
     "name": "stdout",
     "output_type": "stream",
     "text": [
      "List has been written to para.json\n"
     ]
    }
   ],
   "source": [
    "import json\n",
    "\n",
    "\n",
    "# Step 3: Open (or create) the 'para.json' file in write mode\n",
    "with open('para.json', 'w') as json_file:\n",
    "    # Step 4: Use json.dump() to write the list to the file\n",
    "    json.dump(para, json_file)\n",
    "\n",
    "print(\"List has been written to para.json\")\n"
   ]
  },
  {
   "cell_type": "code",
   "execution_count": 33,
   "id": "bbf9bc5b-6f82-4c7b-b00a-f036b85e2ae0",
   "metadata": {},
   "outputs": [
    {
     "data": {
      "text/html": [
       "<div>\n",
       "<style scoped>\n",
       "    .dataframe tbody tr th:only-of-type {\n",
       "        vertical-align: middle;\n",
       "    }\n",
       "\n",
       "    .dataframe tbody tr th {\n",
       "        vertical-align: top;\n",
       "    }\n",
       "\n",
       "    .dataframe thead th {\n",
       "        text-align: right;\n",
       "    }\n",
       "</style>\n",
       "<table border=\"1\" class=\"dataframe\">\n",
       "  <thead>\n",
       "    <tr style=\"text-align: right;\">\n",
       "      <th></th>\n",
       "      <th>0</th>\n",
       "    </tr>\n",
       "  </thead>\n",
       "  <tbody>\n",
       "    <tr>\n",
       "      <th>0</th>\n",
       "      <td>بثت كتائب عز الدين القسام -الجناح العسكري لحرك...</td>\n",
       "    </tr>\n",
       "    <tr>\n",
       "      <th>1</th>\n",
       "      <td>يعيش المصابون بأمراض مزمنة في قطاع غزة، الحرب ...</td>\n",
       "    </tr>\n",
       "    <tr>\n",
       "      <th>2</th>\n",
       "      <td>أفادت مصادر إسرائيلية بمقتل وجرح 20 جنديا اليو...</td>\n",
       "    </tr>\n",
       "    <tr>\n",
       "      <th>3</th>\n",
       "      <td>عرضت كتائب القسام -الجناح العسكري لحركة المقاو...</td>\n",
       "    </tr>\n",
       "    <tr>\n",
       "      <th>4</th>\n",
       "      <td>في اليوم الـ220 للعدوان الإسرائيلي على غزة، تص...</td>\n",
       "    </tr>\n",
       "    <tr>\n",
       "      <th>...</th>\n",
       "      <td>...</td>\n",
       "    </tr>\n",
       "    <tr>\n",
       "      <th>253</th>\n",
       "      <td>يرى الخبير في الشؤون الإستراتيجية والعسكرية ال...</td>\n",
       "    </tr>\n",
       "    <tr>\n",
       "      <th>254</th>\n",
       "      <td>أعلنت المقاومة الفلسطينية مساء أمس الخميس استه...</td>\n",
       "    </tr>\n",
       "    <tr>\n",
       "      <th>255</th>\n",
       "      <td>تواصل الحراك الطلابي المناهض للحرب الإسرائيلية...</td>\n",
       "    </tr>\n",
       "    <tr>\n",
       "      <th>256</th>\n",
       "      <td>حذرت الجبهة الشعبية لتحرير فلسطين، ولجان المقا...</td>\n",
       "    </tr>\n",
       "    <tr>\n",
       "      <th>257</th>\n",
       "      <td>تجددت الاشتباكات بين المقاومة الفلسطينية وقوات...</td>\n",
       "    </tr>\n",
       "  </tbody>\n",
       "</table>\n",
       "<p>258 rows × 1 columns</p>\n",
       "</div>"
      ],
      "text/plain": [
       "                                                     0\n",
       "0    بثت كتائب عز الدين القسام -الجناح العسكري لحرك...\n",
       "1    يعيش المصابون بأمراض مزمنة في قطاع غزة، الحرب ...\n",
       "2    أفادت مصادر إسرائيلية بمقتل وجرح 20 جنديا اليو...\n",
       "3    عرضت كتائب القسام -الجناح العسكري لحركة المقاو...\n",
       "4    في اليوم الـ220 للعدوان الإسرائيلي على غزة، تص...\n",
       "..                                                 ...\n",
       "253  يرى الخبير في الشؤون الإستراتيجية والعسكرية ال...\n",
       "254  أعلنت المقاومة الفلسطينية مساء أمس الخميس استه...\n",
       "255  تواصل الحراك الطلابي المناهض للحرب الإسرائيلية...\n",
       "256  حذرت الجبهة الشعبية لتحرير فلسطين، ولجان المقا...\n",
       "257  تجددت الاشتباكات بين المقاومة الفلسطينية وقوات...\n",
       "\n",
       "[258 rows x 1 columns]"
      ]
     },
     "execution_count": 33,
     "metadata": {},
     "output_type": "execute_result"
    }
   ],
   "source": [
    "df"
   ]
  },
  {
   "cell_type": "code",
   "execution_count": null,
   "id": "4ec1b752-4889-44da-9de6-7189450bfcd1",
   "metadata": {},
   "outputs": [],
   "source": []
  },
  {
   "cell_type": "code",
   "execution_count": null,
   "id": "41baaa51-5866-4d16-9b0a-38367b096bd4",
   "metadata": {},
   "outputs": [],
   "source": []
  },
  {
   "cell_type": "code",
   "execution_count": null,
   "id": "0ad2ac83-1dd0-4972-a56c-e95f2d121a9e",
   "metadata": {},
   "outputs": [],
   "source": []
  },
  {
   "cell_type": "code",
   "execution_count": null,
   "id": "ac5ef635-0ffb-4e11-93b8-36a9c0b804ed",
   "metadata": {},
   "outputs": [],
   "source": []
  },
  {
   "cell_type": "code",
   "execution_count": null,
   "id": "7682ae23-548b-4044-a9a8-f8e6dd79ca50",
   "metadata": {},
   "outputs": [],
   "source": []
  },
  {
   "cell_type": "code",
   "execution_count": null,
   "id": "ff842c7c-e592-46c9-8dc5-30ebaac0b560",
   "metadata": {},
   "outputs": [],
   "source": []
  },
  {
   "cell_type": "code",
   "execution_count": null,
   "id": "918fbda9-6677-4025-8e20-1f15a4f15ea8",
   "metadata": {},
   "outputs": [],
   "source": []
  },
  {
   "cell_type": "code",
   "execution_count": null,
   "id": "c4d03330-2cdb-4ac3-830f-c94752200994",
   "metadata": {},
   "outputs": [],
   "source": []
  },
  {
   "cell_type": "code",
   "execution_count": null,
   "id": "d5db6c63-95ba-48cf-b1ad-a3b5f862700a",
   "metadata": {},
   "outputs": [],
   "source": []
  },
  {
   "cell_type": "code",
   "execution_count": null,
   "id": "8bf1709a-1903-43f9-b343-6d9186dc58f7",
   "metadata": {},
   "outputs": [],
   "source": []
  },
  {
   "cell_type": "code",
   "execution_count": null,
   "id": "2fb4c8cd-5c21-4a90-ae42-02d62394a2d6",
   "metadata": {},
   "outputs": [],
   "source": []
  },
  {
   "cell_type": "code",
   "execution_count": null,
   "id": "b2cf032e-a290-49d6-b1ba-70e4f0c2e7f9",
   "metadata": {},
   "outputs": [],
   "source": []
  },
  {
   "cell_type": "code",
   "execution_count": null,
   "id": "347b6a26-8cf5-4350-b948-88d28bc4a9ae",
   "metadata": {},
   "outputs": [],
   "source": []
  },
  {
   "cell_type": "code",
   "execution_count": null,
   "id": "f984e50b-294f-43d0-879b-a9cc5ddd4b02",
   "metadata": {},
   "outputs": [],
   "source": []
  },
  {
   "cell_type": "code",
   "execution_count": null,
   "id": "1e9ab095-762f-4200-9455-00d220b47b15",
   "metadata": {},
   "outputs": [],
   "source": []
  },
  {
   "cell_type": "code",
   "execution_count": null,
   "id": "d81d862a-711e-4671-ab65-a4aedbdd233b",
   "metadata": {},
   "outputs": [],
   "source": []
  },
  {
   "cell_type": "code",
   "execution_count": null,
   "id": "2af72145-d2ff-4c39-b5ed-a3b8efd7b172",
   "metadata": {},
   "outputs": [],
   "source": []
  },
  {
   "cell_type": "code",
   "execution_count": null,
   "id": "b1f3ed0c-016e-4a30-8efd-d005bc629c7c",
   "metadata": {},
   "outputs": [],
   "source": []
  },
  {
   "cell_type": "code",
   "execution_count": null,
   "id": "7a992552-e596-4f0a-b568-d0f389c61576",
   "metadata": {},
   "outputs": [],
   "source": []
  },
  {
   "cell_type": "code",
   "execution_count": null,
   "id": "276b32af-860c-410c-889c-718a041f394b",
   "metadata": {},
   "outputs": [],
   "source": []
  },
  {
   "cell_type": "code",
   "execution_count": null,
   "id": "9bd8c24d-8233-45b2-b9b5-3dc4c375b2de",
   "metadata": {},
   "outputs": [],
   "source": []
  },
  {
   "cell_type": "code",
   "execution_count": null,
   "id": "67b17019-2c51-4039-b8d1-359412cc3f1e",
   "metadata": {},
   "outputs": [],
   "source": []
  },
  {
   "cell_type": "code",
   "execution_count": null,
   "id": "29a4182d-6027-48dd-9863-6674490a1793",
   "metadata": {},
   "outputs": [],
   "source": []
  },
  {
   "cell_type": "code",
   "execution_count": null,
   "id": "109979cf-96c4-4f7e-9232-734a762f1233",
   "metadata": {},
   "outputs": [],
   "source": []
  },
  {
   "cell_type": "code",
   "execution_count": null,
   "id": "b34be5bb-6da6-4b72-b72f-284481ee7aed",
   "metadata": {},
   "outputs": [],
   "source": []
  },
  {
   "cell_type": "code",
   "execution_count": null,
   "id": "46bf30af-ccd1-4c6a-a6e8-22e9d114fa32",
   "metadata": {},
   "outputs": [],
   "source": []
  },
  {
   "cell_type": "code",
   "execution_count": null,
   "id": "610d5a24-87b2-4553-9fa7-4cc9e45b773a",
   "metadata": {},
   "outputs": [],
   "source": []
  },
  {
   "cell_type": "code",
   "execution_count": null,
   "id": "80056e2b-6403-43be-88bd-77a5910cc352",
   "metadata": {},
   "outputs": [],
   "source": []
  },
  {
   "cell_type": "code",
   "execution_count": null,
   "id": "a12d75a5-0c67-448b-b318-ac55928b35f2",
   "metadata": {},
   "outputs": [],
   "source": []
  }
 ],
 "metadata": {
  "kernelspec": {
   "display_name": "Python 3 (ipykernel)",
   "language": "python",
   "name": "python3"
  },
  "language_info": {
   "codemirror_mode": {
    "name": "ipython",
    "version": 3
   },
   "file_extension": ".py",
   "mimetype": "text/x-python",
   "name": "python",
   "nbconvert_exporter": "python",
   "pygments_lexer": "ipython3",
   "version": "3.12.0"
  }
 },
 "nbformat": 4,
 "nbformat_minor": 5
}
