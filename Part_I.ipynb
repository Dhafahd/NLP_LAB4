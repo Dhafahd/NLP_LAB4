{
 "cells": [
  {
   "cell_type": "code",
   "execution_count": 16,
   "id": "ca2f26c7",
   "metadata": {},
   "outputs": [],
   "source": [
    "import pandas as pd\n",
    "from selenium import webdriver\n",
    "from selenium.webdriver.common.by import By\n",
    "from selenium.webdriver.chrome.service import Service\n",
    "from selenium.webdriver.chrome.options import Options\n",
    "from selenium.webdriver.support.ui import WebDriverWait\n",
    "from selenium.webdriver.support import expected_conditions as EC\n",
    "import time\n",
    "import requests\n",
    "from bs4 import BeautifulSoup\n",
    "import json\n",
    "import pyarabic.araby as araby\n",
    "from tashaphyne.stemming import ArabicLightStemmer\n",
    "import re\n",
    "from nltk.tokenize import word_tokenize\n",
    "from nltk.corpus import stopwords\n",
    "import nltk\n",
    "import qalsadi.lemmatizer as lem\n",
    "\n"
   ]
  },
  {
   "cell_type": "code",
   "execution_count": null,
   "id": "53517bee-c741-4882-9f35-d78d6eca49bb",
   "metadata": {},
   "outputs": [],
   "source": [
    "\n",
    "\n",
    "# Configure options for Chrome\n",
    "options = Options()\n",
    "options.add_argument('--headless')  # Run in headless mode for non-GUI environments\n",
    "options.add_argument('--disable-gpu')\n",
    "options.add_argument('--no-sandbox')\n",
    "\n",
    "# Set up the Chrome WebDriver\n",
    "driver = webdriver.Chrome()\n",
    "\n",
    "\n",
    "# Open the website\n",
    "driver.get('https://www.aljazeera.net/where/arab/palestine/')\n",
    "\n",
    "links = set()\n",
    "for i in range(30):\n",
    "    # Wait until the links are present\n",
    "    WebDriverWait(driver, 10).until(\n",
    "        EC.presence_of_all_elements_located((By.CLASS_NAME, 'u-clickable-card__link'))\n",
    "    )\n",
    "\n",
    "    # Find all link elements\n",
    "    link_elements = driver.find_elements(By.CLASS_NAME, 'u-clickable-card__link')\n",
    "    for element in link_elements:\n",
    "        links.add(element.get_attribute('href'))\n",
    "\n",
    "    # Try to find and click the \"Show More\" button\n",
    "    show_more_button = WebDriverWait(driver, 10).until(\n",
    "        EC.element_to_be_clickable((By.XPATH, '/html/body/div[1]/div/div[3]/div/div[3]/div/div[1]/section/button'))\n",
    "    )\n",
    "    driver.execute_script('arguments[0].scrollIntoView();', show_more_button)\n",
    "    show_more_button.click()\n",
    "    time.sleep(3)  # Wait for new content to load\n",
    "\n",
    "# Output all links\n",
    "for link in links:\n",
    "    print(link)\n",
    "\n",
    "driver.quit()\n"
   ]
  },
  {
   "cell_type": "code",
   "execution_count": 12,
   "id": "60b4d195-a748-479c-ad88-43a5bccd874d",
   "metadata": {},
   "outputs": [
    {
     "data": {
      "text/plain": [
       "304"
      ]
     },
     "execution_count": 12,
     "metadata": {},
     "output_type": "execute_result"
    }
   ],
   "source": [
    "len(links)"
   ]
  },
  {
   "cell_type": "code",
   "execution_count": null,
   "id": "d532d4c6-9a74-4477-8162-e8b84aa579b2",
   "metadata": {},
   "outputs": [],
   "source": [
    "\n",
    "para=[]\n",
    "for url in links:\n",
    "    page = requests.get(url)\n",
    "    soup = BeautifulSoup(page.text, 'html.parser')\n",
    "    \n",
    "    para_div = soup.find('div', {'class': 'wysiwyg wysiwyg--all-content css-1vkfgk0'})\n",
    "    if para_div:\n",
    "        print(\"URL:\", url)\n",
    "         \n",
    "        \n",
    "        # Initialize a variable to store all paragraphs\n",
    "        all_paragraphs = \"\"\n",
    "\n",
    "        # Extract paragraphs\n",
    "        for item in para_div.contents:\n",
    "            if item.name == 'p':\n",
    "                all_paragraphs += item.text.strip() + \"  \"\n",
    "\n",
    "        print(\"Paragraphs:\", all_paragraphs)\n",
    "        para.append(all_paragraphs)\n",
    "        print(\"\\n\")  # Add a new line for separation between articles\n",
    "        # Insert data into MongoDB\n",
    "        article_data = {\n",
    "            \"url\": url,\n",
    "            \"paragraphs\": all_paragraphs\n",
    "        }\n"
   ]
  },
  {
   "cell_type": "code",
   "execution_count": 21,
   "id": "113e412a-3aaf-45a0-906e-6629e31af72a",
   "metadata": {},
   "outputs": [
    {
     "name": "stdout",
     "output_type": "stream",
     "text": [
      "List has been written to para.json\n"
     ]
    }
   ],
   "source": [
    "# Step 3: Open (or create) the 'para.json' file in write mode\n",
    "with open('para.json', 'w') as json_file:\n",
    "    # Step 4: Use json.dump() to write the list to the file\n",
    "    json.dump(para, json_file)\n",
    "\n",
    "print(\"List has been written to para.json\")\n"
   ]
  },
  {
   "cell_type": "code",
   "execution_count": 33,
   "id": "bbf9bc5b-6f82-4c7b-b00a-f036b85e2ae0",
   "metadata": {},
   "outputs": [
    {
     "data": {
      "text/html": [
       "<div>\n",
       "<style scoped>\n",
       "    .dataframe tbody tr th:only-of-type {\n",
       "        vertical-align: middle;\n",
       "    }\n",
       "\n",
       "    .dataframe tbody tr th {\n",
       "        vertical-align: top;\n",
       "    }\n",
       "\n",
       "    .dataframe thead th {\n",
       "        text-align: right;\n",
       "    }\n",
       "</style>\n",
       "<table border=\"1\" class=\"dataframe\">\n",
       "  <thead>\n",
       "    <tr style=\"text-align: right;\">\n",
       "      <th></th>\n",
       "      <th>0</th>\n",
       "    </tr>\n",
       "  </thead>\n",
       "  <tbody>\n",
       "    <tr>\n",
       "      <th>0</th>\n",
       "      <td>بثت كتائب عز الدين القسام -الجناح العسكري لحرك...</td>\n",
       "    </tr>\n",
       "    <tr>\n",
       "      <th>1</th>\n",
       "      <td>يعيش المصابون بأمراض مزمنة في قطاع غزة، الحرب ...</td>\n",
       "    </tr>\n",
       "    <tr>\n",
       "      <th>2</th>\n",
       "      <td>أفادت مصادر إسرائيلية بمقتل وجرح 20 جنديا اليو...</td>\n",
       "    </tr>\n",
       "    <tr>\n",
       "      <th>3</th>\n",
       "      <td>عرضت كتائب القسام -الجناح العسكري لحركة المقاو...</td>\n",
       "    </tr>\n",
       "    <tr>\n",
       "      <th>4</th>\n",
       "      <td>في اليوم الـ220 للعدوان الإسرائيلي على غزة، تص...</td>\n",
       "    </tr>\n",
       "    <tr>\n",
       "      <th>...</th>\n",
       "      <td>...</td>\n",
       "    </tr>\n",
       "    <tr>\n",
       "      <th>253</th>\n",
       "      <td>يرى الخبير في الشؤون الإستراتيجية والعسكرية ال...</td>\n",
       "    </tr>\n",
       "    <tr>\n",
       "      <th>254</th>\n",
       "      <td>أعلنت المقاومة الفلسطينية مساء أمس الخميس استه...</td>\n",
       "    </tr>\n",
       "    <tr>\n",
       "      <th>255</th>\n",
       "      <td>تواصل الحراك الطلابي المناهض للحرب الإسرائيلية...</td>\n",
       "    </tr>\n",
       "    <tr>\n",
       "      <th>256</th>\n",
       "      <td>حذرت الجبهة الشعبية لتحرير فلسطين، ولجان المقا...</td>\n",
       "    </tr>\n",
       "    <tr>\n",
       "      <th>257</th>\n",
       "      <td>تجددت الاشتباكات بين المقاومة الفلسطينية وقوات...</td>\n",
       "    </tr>\n",
       "  </tbody>\n",
       "</table>\n",
       "<p>258 rows × 1 columns</p>\n",
       "</div>"
      ],
      "text/plain": [
       "                                                     0\n",
       "0    بثت كتائب عز الدين القسام -الجناح العسكري لحرك...\n",
       "1    يعيش المصابون بأمراض مزمنة في قطاع غزة، الحرب ...\n",
       "2    أفادت مصادر إسرائيلية بمقتل وجرح 20 جنديا اليو...\n",
       "3    عرضت كتائب القسام -الجناح العسكري لحركة المقاو...\n",
       "4    في اليوم الـ220 للعدوان الإسرائيلي على غزة، تص...\n",
       "..                                                 ...\n",
       "253  يرى الخبير في الشؤون الإستراتيجية والعسكرية ال...\n",
       "254  أعلنت المقاومة الفلسطينية مساء أمس الخميس استه...\n",
       "255  تواصل الحراك الطلابي المناهض للحرب الإسرائيلية...\n",
       "256  حذرت الجبهة الشعبية لتحرير فلسطين، ولجان المقا...\n",
       "257  تجددت الاشتباكات بين المقاومة الفلسطينية وقوات...\n",
       "\n",
       "[258 rows x 1 columns]"
      ]
     },
     "execution_count": 33,
     "metadata": {},
     "output_type": "execute_result"
    }
   ],
   "source": [
    "df"
   ]
  },
  {
   "cell_type": "code",
   "execution_count": null,
   "id": "4ec1b752-4889-44da-9de6-7189450bfcd1",
   "metadata": {},
   "outputs": [],
   "source": [
    "# Configure options for Chrome\n",
    "options = Options()\n",
    "options.add_argument('--headless')  # Run in headless mode for non-GUI environments\n",
    "options.add_argument('--disable-gpu')\n",
    "options.add_argument('--no-sandbox')\n",
    "\n",
    "# Set up the Chrome WebDriver\n",
    "driver = webdriver.Chrome()\n",
    "\n",
    "\n",
    "# Open the website\n",
    "driver.get('https://www.aljazeera.net/')\n",
    "\n",
    "links = set()\n",
    "for i in range(1):\n",
    "    # Wait until the links are present\n",
    "    WebDriverWait(driver, 10).until(\n",
    "        EC.presence_of_all_elements_located((By.CLASS_NAME, 'u-clickable-card__link'))\n",
    "    )\n",
    "\n",
    "    # Find all link elements\n",
    "    link_elements = driver.find_elements(By.CLASS_NAME, 'u-clickable-card__link')\n",
    "    for element in link_elements:\n",
    "        links.add(element.get_attribute('href'))\n",
    "\n",
    "    # # Try to find and click the \"Show More\" button\n",
    "    # show_more_button = WebDriverWait(driver, 10).until(\n",
    "    #     EC.element_to_be_clickable((By.XPATH, '/html/body/div[1]/div/div[3]/div/div[3]/div/div[1]/section/button'))\n",
    "    # )\n",
    "    # driver.execute_script('arguments[0].scrollIntoView();', show_more_button)\n",
    "    # show_more_button.click()\n",
    "    # time.sleep(3)  # Wait for new content to load\n",
    "\n",
    "# Output all links\n",
    "for link in links:\n",
    "    print(link)\n",
    "\n",
    "driver.quit()   "
   ]
  },
  {
   "cell_type": "code",
   "execution_count": null,
   "id": "41baaa51-5866-4d16-9b0a-38367b096bd4",
   "metadata": {},
   "outputs": [],
   "source": [
    "para=[]\n",
    "for url in links:\n",
    "    page = requests.get(url)\n",
    "    soup = BeautifulSoup(page.text, 'html.parser')\n",
    "    \n",
    "    para_div = soup.find('div', {'class': 'wysiwyg wysiwyg--all-content css-1vkfgk0'})\n",
    "    if para_div:\n",
    "        print(\"URL:\", url)\n",
    "         \n",
    "        \n",
    "        # Initialize a variable to store all paragraphs\n",
    "        all_paragraphs = \"\"\n",
    "\n",
    "        # Extract paragraphs\n",
    "        for item in para_div.contents:\n",
    "            if item.name == 'p':\n",
    "                all_paragraphs += item.text.strip() + \"  \"\n",
    "\n",
    "        print(\"Paragraphs:\", all_paragraphs)\n",
    "        para.append(all_paragraphs)\n",
    "        print(\"\\n\")  # Add a new line for separation between articles\n",
    "        # Insert data into MongoDB\n",
    "        article_data = {\n",
    "            \"url\": url,\n",
    "            \"paragraphs\": all_paragraphs\n",
    "        }"
   ]
  },
  {
   "cell_type": "code",
   "execution_count": null,
   "id": "0ad2ac83-1dd0-4972-a56c-e95f2d121a9e",
   "metadata": {},
   "outputs": [],
   "source": [
    "# Create a list to hold the dictionaries\n",
    "data_list = []\n",
    "\n",
    "# Iterate over each item in the 'para' list\n",
    "for content in para:\n",
    "    # Create a dictionary with 'content' and 'title'\n",
    "    data = {\n",
    "        \"title\": \"None\",\n",
    "        \"content\": content,  \n",
    "    }\n",
    "    \n",
    "    # Add the dictionary to the list\n",
    "    data_list.append(data)\n",
    "\n",
    "# Write the list of dictionaries to a single JSON file\n",
    "with open('para2.json', 'w', encoding='utf-8') as json_file:\n",
    "    json.dump(data_list, json_file, ensure_ascii=False, indent=4)\n",
    "\n",
    "print(\"All items have been written to 'para2.json'.\")"
   ]
  },
  {
   "cell_type": "code",
   "execution_count": 6,
   "id": "ac5ef635-0ffb-4e11-93b8-36a9c0b804ed",
   "metadata": {},
   "outputs": [
    {
     "name": "stdout",
     "output_type": "stream",
     "text": [
      "                                               content    rating\n",
      "0    بثت كتائب عز الدين القسام -الجناح العسكري لحرك...  6.305360\n",
      "1    يعيش المصابون بأمراض مزمنة في قطاع غزة، الحرب ...  9.647305\n",
      "2    أفادت مصادر إسرائيلية بمقتل وجرح 20 جنديا اليو...  7.359289\n",
      "3    عرضت كتائب القسام -الجناح العسكري لحركة المقاو...  9.395899\n",
      "4    في اليوم الـ220 للعدوان الإسرائيلي على غزة، تص...  9.478555\n",
      "..                                                 ...       ...\n",
      "206  طهران- في تصريحات رسمية يمكن اعتبار أنها الأول...  4.024692\n",
      "207  حاول الغرب، على مدى السنوات القليلة الماضية، ك...  1.148186\n",
      "208  يحذر خبراء في جنوب أفريقيا من عودة الرئيس السا...  1.615157\n",
      "209  في سياق إقليمي معقد تمر به منطقة أفريقيا جنوب ...  3.324926\n",
      "210  قرر يوفنتوس الإيطالي الطعن في حكم كريستيانو رو...  0.855067\n",
      "\n",
      "[211 rows x 2 columns]\n"
     ]
    }
   ],
   "source": [
    "# Read the JSON file with lines=True\n",
    "df = pd.read_json(\"filtered_&_scored_data.json\", lines=True)\n",
    "\n",
    "# Drop the column named 'B'\n",
    "if 'B' in df.columns:\n",
    "    df = df.drop(columns=['B'])\n",
    "\n",
    "# Save the updated DataFrame back to a JSON file\n",
    "df.to_json('updated_para.json', orient='records', lines=True, force_ascii=False, indent=4)\n",
    "\n",
    "# Print the updated DataFrame\n",
    "print(df)\n"
   ]
  },
  {
   "cell_type": "code",
   "execution_count": 8,
   "id": "90d1b3cc",
   "metadata": {},
   "outputs": [
    {
     "data": {
      "text/plain": [
       "0      بثت كتائب عز الدين القسام -الجناح العسكري لحرك...\n",
       "1      يعيش المصابون بأمراض مزمنة في قطاع غزة، الحرب ...\n",
       "2      أفادت مصادر إسرائيلية بمقتل وجرح 20 جنديا اليو...\n",
       "3      عرضت كتائب القسام -الجناح العسكري لحركة المقاو...\n",
       "4      في اليوم الـ220 للعدوان الإسرائيلي على غزة، تص...\n",
       "                             ...                        \n",
       "206    طهران- في تصريحات رسمية يمكن اعتبار أنها الأول...\n",
       "207    حاول الغرب، على مدى السنوات القليلة الماضية، ك...\n",
       "208    يحذر خبراء في جنوب أفريقيا من عودة الرئيس السا...\n",
       "209    في سياق إقليمي معقد تمر به منطقة أفريقيا جنوب ...\n",
       "210    قرر يوفنتوس الإيطالي الطعن في حكم كريستيانو رو...\n",
       "Name: content, Length: 211, dtype: object"
      ]
     },
     "execution_count": 8,
     "metadata": {},
     "output_type": "execute_result"
    }
   ],
   "source": [
    "df['content']"
   ]
  },
  {
   "cell_type": "code",
   "execution_count": 17,
   "id": "7682ae23-548b-4044-a9a8-f8e6dd79ca50",
   "metadata": {},
   "outputs": [
    {
     "ename": "TypeError",
     "evalue": "expected string or bytes-like object, got 'Series'",
     "output_type": "error",
     "traceback": [
      "\u001b[1;31m---------------------------------------------------------------------------\u001b[0m",
      "\u001b[1;31mTypeError\u001b[0m                                 Traceback (most recent call last)",
      "Cell \u001b[1;32mIn[17], line 35\u001b[0m\n\u001b[0;32m     32\u001b[0m     text \u001b[38;5;241m=\u001b[39m text\u001b[38;5;241m.\u001b[39mstrip()\n\u001b[0;32m     33\u001b[0m     \u001b[38;5;28;01mreturn\u001b[39;00m text\n\u001b[1;32m---> 35\u001b[0m df[\u001b[38;5;124m'\u001b[39m\u001b[38;5;124mcontent\u001b[39m\u001b[38;5;124m'\u001b[39m] \u001b[38;5;241m=\u001b[39m clean_str(df[\u001b[38;5;124m'\u001b[39m\u001b[38;5;124mcontent\u001b[39m\u001b[38;5;124m'\u001b[39m])\n",
      "Cell \u001b[1;32mIn[17], line 6\u001b[0m, in \u001b[0;36mclean_str\u001b[1;34m(text)\u001b[0m\n\u001b[0;32m      4\u001b[0m \u001b[38;5;66;03m# remove HTML TAG\u001b[39;00m\n\u001b[0;32m      5\u001b[0m html \u001b[38;5;241m=\u001b[39m re\u001b[38;5;241m.\u001b[39mcompile(\u001b[38;5;124m'\u001b[39m\u001b[38;5;124m[<،,()\u001b[39m\u001b[38;5;124m\"\u001b[39m\u001b[38;5;124m\"\u001b[39m\u001b[38;5;124m.#*?>]\u001b[39m\u001b[38;5;124m'\u001b[39m)\n\u001b[1;32m----> 6\u001b[0m text \u001b[38;5;241m=\u001b[39m html\u001b[38;5;241m.\u001b[39msub(\u001b[38;5;124mr\u001b[39m\u001b[38;5;124m'\u001b[39m\u001b[38;5;124m'\u001b[39m,text)\n\u001b[0;32m      8\u001b[0m \u001b[38;5;66;03m# Remove urls:\u001b[39;00m\n\u001b[0;32m      9\u001b[0m url \u001b[38;5;241m=\u001b[39m re\u001b[38;5;241m.\u001b[39mcompile(\u001b[38;5;124m'\u001b[39m\u001b[38;5;124mhttps?://\u001b[39m\u001b[38;5;124m\\\u001b[39m\u001b[38;5;124mS+|www\u001b[39m\u001b[38;5;124m\\\u001b[39m\u001b[38;5;124m.S+\u001b[39m\u001b[38;5;124m'\u001b[39m)\n",
      "\u001b[1;31mTypeError\u001b[0m: expected string or bytes-like object, got 'Series'"
     ]
    }
   ],
   "source": [
    "def clean_str(text):\n",
    "    search = [\"أ\",\"إ\",\"آ\",\"ة\",\"_\",\"-\",\"/\",\".\",\"،\",\" و \",\" يا \",'\"',\"ـ\",\"'\",\"ى\",'\\n', '\\t','\"','?','؟','!']\n",
    "    replace = [\"ا\",\"ا\",\"ا\",\"ه\",\" \",\" \",\"\",\"\",\"\",\" و\",\" يا\",\"\",\"\",\"\",\"ي\",\"\",' ', ' ',' ',' ? ',' ؟ ',' ! ']\n",
    "    # remove HTML TAG\n",
    "    html = re.compile('[<،,()\"\".#*?>]')\n",
    "    text = html.sub(r'',text)\n",
    "    \n",
    "    # Remove urls:\n",
    "    url = re.compile('https?://\\S+|www\\.S+')\n",
    "    text = url.sub(r'',text)\n",
    "    \n",
    "    # Remove email id:\n",
    "    email = re.compile('[A-Za-z0-2]+@[\\w]+.[\\w]+')\n",
    "    text = email.sub(r'',text)\n",
    "    \n",
    "    # Remove tashkeel\n",
    "    p_tashkeel = re.compile(r'[\\u0617-\\u061A\\u064B-\\u0652]')\n",
    "    text = re.sub(p_tashkeel,\"\", text)\n",
    "    \n",
    "    # Remove longation \"EX : سلاممممم = سلامم\"\n",
    "    p_longation = re.compile(r'(.)\\1+')\n",
    "    subst = r\"\\1\\1\"\n",
    "    text = re.sub(p_longation, subst, text)\n",
    "    \n",
    "    text = text.replace('وو', 'و')\n",
    "    text = text.replace('يي', 'ي')\n",
    "    text = text.replace('اا', 'ا')\n",
    "    for i in range(0, len(search)):\n",
    "        text = text.replace(search[i], replace[i])\n",
    "    \n",
    "    # remove any leading and trailing whitespace characters    \n",
    "    text = text.strip()\n",
    "    return text\n",
    "\n",
    "data=df['content'] \n",
    "# para = clean_str(data)\n"
   ]
  },
  {
   "cell_type": "code",
   "execution_count": 19,
   "id": "ff842c7c-e592-46c9-8dc5-30ebaac0b560",
   "metadata": {},
   "outputs": [
    {
     "data": {
      "text/plain": [
       "0      بثت كتائب عز الدين القسام -الجناح العسكري لحرك...\n",
       "1      يعيش المصابون بأمراض مزمنة في قطاع غزة، الحرب ...\n",
       "2      أفادت مصادر إسرائيلية بمقتل وجرح 20 جنديا اليو...\n",
       "3      عرضت كتائب القسام -الجناح العسكري لحركة المقاو...\n",
       "4      في اليوم الـ220 للعدوان الإسرائيلي على غزة، تص...\n",
       "                             ...                        \n",
       "206    طهران- في تصريحات رسمية يمكن اعتبار أنها الأول...\n",
       "207    حاول الغرب، على مدى السنوات القليلة الماضية، ك...\n",
       "208    يحذر خبراء في جنوب أفريقيا من عودة الرئيس السا...\n",
       "209    في سياق إقليمي معقد تمر به منطقة أفريقيا جنوب ...\n",
       "210    قرر يوفنتوس الإيطالي الطعن في حكم كريستيانو رو...\n",
       "Name: content, Length: 211, dtype: object"
      ]
     },
     "execution_count": 19,
     "metadata": {},
     "output_type": "execute_result"
    }
   ],
   "source": [
    "data=df['content'] \n",
    "data"
   ]
  },
  {
   "cell_type": "code",
   "execution_count": null,
   "id": "918fbda9-6677-4025-8e20-1f15a4f15ea8",
   "metadata": {},
   "outputs": [],
   "source": []
  },
  {
   "cell_type": "code",
   "execution_count": null,
   "id": "c4d03330-2cdb-4ac3-830f-c94752200994",
   "metadata": {},
   "outputs": [],
   "source": []
  },
  {
   "cell_type": "code",
   "execution_count": null,
   "id": "d5db6c63-95ba-48cf-b1ad-a3b5f862700a",
   "metadata": {},
   "outputs": [],
   "source": []
  },
  {
   "cell_type": "code",
   "execution_count": null,
   "id": "8bf1709a-1903-43f9-b343-6d9186dc58f7",
   "metadata": {},
   "outputs": [],
   "source": []
  },
  {
   "cell_type": "code",
   "execution_count": null,
   "id": "2fb4c8cd-5c21-4a90-ae42-02d62394a2d6",
   "metadata": {},
   "outputs": [],
   "source": []
  },
  {
   "cell_type": "code",
   "execution_count": null,
   "id": "b2cf032e-a290-49d6-b1ba-70e4f0c2e7f9",
   "metadata": {},
   "outputs": [],
   "source": []
  },
  {
   "cell_type": "code",
   "execution_count": null,
   "id": "347b6a26-8cf5-4350-b948-88d28bc4a9ae",
   "metadata": {},
   "outputs": [],
   "source": []
  },
  {
   "cell_type": "code",
   "execution_count": null,
   "id": "f984e50b-294f-43d0-879b-a9cc5ddd4b02",
   "metadata": {},
   "outputs": [],
   "source": []
  },
  {
   "cell_type": "code",
   "execution_count": null,
   "id": "1e9ab095-762f-4200-9455-00d220b47b15",
   "metadata": {},
   "outputs": [],
   "source": []
  },
  {
   "cell_type": "code",
   "execution_count": null,
   "id": "d81d862a-711e-4671-ab65-a4aedbdd233b",
   "metadata": {},
   "outputs": [],
   "source": []
  },
  {
   "cell_type": "code",
   "execution_count": null,
   "id": "2af72145-d2ff-4c39-b5ed-a3b8efd7b172",
   "metadata": {},
   "outputs": [],
   "source": []
  },
  {
   "cell_type": "code",
   "execution_count": null,
   "id": "b1f3ed0c-016e-4a30-8efd-d005bc629c7c",
   "metadata": {},
   "outputs": [],
   "source": []
  },
  {
   "cell_type": "code",
   "execution_count": null,
   "id": "7a992552-e596-4f0a-b568-d0f389c61576",
   "metadata": {},
   "outputs": [],
   "source": []
  },
  {
   "cell_type": "code",
   "execution_count": null,
   "id": "276b32af-860c-410c-889c-718a041f394b",
   "metadata": {},
   "outputs": [],
   "source": []
  },
  {
   "cell_type": "code",
   "execution_count": null,
   "id": "9bd8c24d-8233-45b2-b9b5-3dc4c375b2de",
   "metadata": {},
   "outputs": [],
   "source": []
  },
  {
   "cell_type": "code",
   "execution_count": null,
   "id": "67b17019-2c51-4039-b8d1-359412cc3f1e",
   "metadata": {},
   "outputs": [],
   "source": []
  },
  {
   "cell_type": "code",
   "execution_count": null,
   "id": "29a4182d-6027-48dd-9863-6674490a1793",
   "metadata": {},
   "outputs": [],
   "source": []
  },
  {
   "cell_type": "code",
   "execution_count": null,
   "id": "109979cf-96c4-4f7e-9232-734a762f1233",
   "metadata": {},
   "outputs": [],
   "source": []
  },
  {
   "cell_type": "code",
   "execution_count": null,
   "id": "b34be5bb-6da6-4b72-b72f-284481ee7aed",
   "metadata": {},
   "outputs": [],
   "source": []
  },
  {
   "cell_type": "code",
   "execution_count": null,
   "id": "46bf30af-ccd1-4c6a-a6e8-22e9d114fa32",
   "metadata": {},
   "outputs": [],
   "source": []
  },
  {
   "cell_type": "code",
   "execution_count": null,
   "id": "610d5a24-87b2-4553-9fa7-4cc9e45b773a",
   "metadata": {},
   "outputs": [],
   "source": []
  },
  {
   "cell_type": "code",
   "execution_count": null,
   "id": "80056e2b-6403-43be-88bd-77a5910cc352",
   "metadata": {},
   "outputs": [],
   "source": []
  },
  {
   "cell_type": "code",
   "execution_count": null,
   "id": "a12d75a5-0c67-448b-b318-ac55928b35f2",
   "metadata": {},
   "outputs": [],
   "source": []
  }
 ],
 "metadata": {
  "kernelspec": {
   "display_name": "Python 3 (ipykernel)",
   "language": "python",
   "name": "python3"
  },
  "language_info": {
   "codemirror_mode": {
    "name": "ipython",
    "version": 3
   },
   "file_extension": ".py",
   "mimetype": "text/x-python",
   "name": "python",
   "nbconvert_exporter": "python",
   "pygments_lexer": "ipython3",
   "version": "3.11.5"
  }
 },
 "nbformat": 4,
 "nbformat_minor": 5
}
